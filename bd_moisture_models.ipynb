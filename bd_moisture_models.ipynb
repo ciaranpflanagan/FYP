{
 "cells": [
  {
   "cell_type": "code",
   "execution_count": 25,
   "metadata": {},
   "outputs": [],
   "source": [
    "import pandas as pd\n",
    "import numpy as np\n",
    "\n",
    "from sklearn.linear_model import LinearRegression\n",
    "from sklearn.svm import SVR\n",
    "from sklearn.metrics import accuracy_score\n",
    "from sklearn.model_selection import train_test_split\n",
    "\n",
    "from mlxtend.feature_selection import SequentialFeatureSelector as SFS\n",
    "from mlxtend.plotting import plot_sequential_feature_selection as plot_sfs\n",
    "\n",
    "from sklearn.feature_selection import SelectKBest\n",
    "from sklearn.feature_selection import f_regression\n",
    "from sklearn.metrics import mean_absolute_error, mean_squared_error, r2_score\n",
    "\n",
    "import matplotlib.pyplot as plt"
   ]
  },
  {
   "cell_type": "markdown",
   "metadata": {},
   "source": [
    "# Reading Data\n"
   ]
  },
  {
   "cell_type": "code",
   "execution_count": 26,
   "metadata": {},
   "outputs": [],
   "source": [
    "df_2021 = pd.read_csv('data/2021.csv')\n",
    "# df_2021.dropna(inplace=True)\n",
    "# df_2021.tail(20)\n",
    "\n",
    "df_2020 = pd.read_csv('data/2020.csv')\n",
    "# df_2020.dropna(inplace=True)\n",
    "# df_2020.tail(20)"
   ]
  },
  {
   "cell_type": "markdown",
   "metadata": {},
   "source": [
    "### Setting up data for models & testing"
   ]
  },
  {
   "cell_type": "code",
   "execution_count": 27,
   "metadata": {},
   "outputs": [
    {
     "data": {
      "text/html": [
       "<div>\n",
       "<style scoped>\n",
       "    .dataframe tbody tr th:only-of-type {\n",
       "        vertical-align: middle;\n",
       "    }\n",
       "\n",
       "    .dataframe tbody tr th {\n",
       "        vertical-align: top;\n",
       "    }\n",
       "\n",
       "    .dataframe thead th {\n",
       "        text-align: right;\n",
       "    }\n",
       "</style>\n",
       "<table border=\"1\" class=\"dataframe\">\n",
       "  <thead>\n",
       "    <tr style=\"text-align: right;\">\n",
       "      <th></th>\n",
       "      <th>Plot</th>\n",
       "      <th>Treatment</th>\n",
       "      <th>BD 0-10cm</th>\n",
       "      <th>BD 10-20cm</th>\n",
       "      <th>BD 20-30cm</th>\n",
       "      <th>BD Moisture 0-10cm</th>\n",
       "      <th>BD Moisture 10-20 cm</th>\n",
       "      <th>BD Moisture 20-30 cm</th>\n",
       "      <th>Emergence</th>\n",
       "      <th>Chlorophyll       28th May</th>\n",
       "      <th>...</th>\n",
       "      <th>Cone P NT          25cm</th>\n",
       "      <th>Cone P NT        27.5cm</th>\n",
       "      <th>Cone P NT        30cm</th>\n",
       "      <th>Cone P NT           32.5cm</th>\n",
       "      <th>Cone P NT          35cm</th>\n",
       "      <th>Cone P NT           37.5cm</th>\n",
       "      <th>Cone P NT        40cm</th>\n",
       "      <th>Cone P NT           42.5cm</th>\n",
       "      <th>Cone P NT          45cm</th>\n",
       "      <th>Combine Yield (t/ac)</th>\n",
       "    </tr>\n",
       "  </thead>\n",
       "  <tbody>\n",
       "    <tr>\n",
       "      <th>0</th>\n",
       "      <td>1</td>\n",
       "      <td>PLPHMNCLA</td>\n",
       "      <td>1.11</td>\n",
       "      <td>1.29</td>\n",
       "      <td>1.61</td>\n",
       "      <td>21.2</td>\n",
       "      <td>31.0</td>\n",
       "      <td>34.3</td>\n",
       "      <td>7.4</td>\n",
       "      <td>39.3</td>\n",
       "      <td>...</td>\n",
       "      <td>3084.0</td>\n",
       "      <td>3873.0</td>\n",
       "      <td>4034.0</td>\n",
       "      <td>5142.0</td>\n",
       "      <td>4635.0</td>\n",
       "      <td>4213.0</td>\n",
       "      <td>4694.0</td>\n",
       "      <td>3991.0</td>\n",
       "      <td>4273.0</td>\n",
       "      <td>NaN</td>\n",
       "    </tr>\n",
       "    <tr>\n",
       "      <th>1</th>\n",
       "      <td>2</td>\n",
       "      <td>PHPLMCCHA</td>\n",
       "      <td>1.16</td>\n",
       "      <td>1.42</td>\n",
       "      <td>1.58</td>\n",
       "      <td>19.8</td>\n",
       "      <td>25.9</td>\n",
       "      <td>26.9</td>\n",
       "      <td>7.4</td>\n",
       "      <td>38.0</td>\n",
       "      <td>...</td>\n",
       "      <td>2587.0</td>\n",
       "      <td>3043.0</td>\n",
       "      <td>4824.0</td>\n",
       "      <td>4818.0</td>\n",
       "      <td>4206.0</td>\n",
       "      <td>3841.0</td>\n",
       "      <td>4767.0</td>\n",
       "      <td>5181.0</td>\n",
       "      <td>4156.0</td>\n",
       "      <td>1.79</td>\n",
       "    </tr>\n",
       "    <tr>\n",
       "      <th>2</th>\n",
       "      <td>3</td>\n",
       "      <td>PLPHMNCHA</td>\n",
       "      <td>1.15</td>\n",
       "      <td>1.55</td>\n",
       "      <td>1.66</td>\n",
       "      <td>20.8</td>\n",
       "      <td>30.2</td>\n",
       "      <td>30.5</td>\n",
       "      <td>5.6</td>\n",
       "      <td>45.9</td>\n",
       "      <td>...</td>\n",
       "      <td>2503.0</td>\n",
       "      <td>3612.0</td>\n",
       "      <td>3149.0</td>\n",
       "      <td>4213.0</td>\n",
       "      <td>4295.0</td>\n",
       "      <td>3388.0</td>\n",
       "      <td>4061.0</td>\n",
       "      <td>3899.0</td>\n",
       "      <td>4489.0</td>\n",
       "      <td>1.99</td>\n",
       "    </tr>\n",
       "    <tr>\n",
       "      <th>3</th>\n",
       "      <td>4</td>\n",
       "      <td>PHPLMNCLA</td>\n",
       "      <td>1.05</td>\n",
       "      <td>1.47</td>\n",
       "      <td>1.47</td>\n",
       "      <td>18.2</td>\n",
       "      <td>28.8</td>\n",
       "      <td>27.1</td>\n",
       "      <td>4.8</td>\n",
       "      <td>44.7</td>\n",
       "      <td>...</td>\n",
       "      <td>1785.0</td>\n",
       "      <td>1935.0</td>\n",
       "      <td>1997.0</td>\n",
       "      <td>2740.0</td>\n",
       "      <td>3087.0</td>\n",
       "      <td>3621.0</td>\n",
       "      <td>4296.0</td>\n",
       "      <td>4070.0</td>\n",
       "      <td>3935.0</td>\n",
       "      <td>2.09</td>\n",
       "    </tr>\n",
       "    <tr>\n",
       "      <th>4</th>\n",
       "      <td>5</td>\n",
       "      <td>PLPLMNCHA</td>\n",
       "      <td>1.14</td>\n",
       "      <td>1.21</td>\n",
       "      <td>1.51</td>\n",
       "      <td>17.7</td>\n",
       "      <td>31.9</td>\n",
       "      <td>29.4</td>\n",
       "      <td>5.0</td>\n",
       "      <td>36.7</td>\n",
       "      <td>...</td>\n",
       "      <td>1730.0</td>\n",
       "      <td>1597.0</td>\n",
       "      <td>1418.0</td>\n",
       "      <td>1561.0</td>\n",
       "      <td>3060.0</td>\n",
       "      <td>3712.0</td>\n",
       "      <td>3663.0</td>\n",
       "      <td>4107.0</td>\n",
       "      <td>4455.0</td>\n",
       "      <td>1.89</td>\n",
       "    </tr>\n",
       "    <tr>\n",
       "      <th>...</th>\n",
       "      <td>...</td>\n",
       "      <td>...</td>\n",
       "      <td>...</td>\n",
       "      <td>...</td>\n",
       "      <td>...</td>\n",
       "      <td>...</td>\n",
       "      <td>...</td>\n",
       "      <td>...</td>\n",
       "      <td>...</td>\n",
       "      <td>...</td>\n",
       "      <td>...</td>\n",
       "      <td>...</td>\n",
       "      <td>...</td>\n",
       "      <td>...</td>\n",
       "      <td>...</td>\n",
       "      <td>...</td>\n",
       "      <td>...</td>\n",
       "      <td>...</td>\n",
       "      <td>...</td>\n",
       "      <td>...</td>\n",
       "      <td>...</td>\n",
       "    </tr>\n",
       "    <tr>\n",
       "      <th>91</th>\n",
       "      <td>92</td>\n",
       "      <td>MLPLMNCLA</td>\n",
       "      <td>NaN</td>\n",
       "      <td>NaN</td>\n",
       "      <td>NaN</td>\n",
       "      <td>NaN</td>\n",
       "      <td>NaN</td>\n",
       "      <td>NaN</td>\n",
       "      <td>NaN</td>\n",
       "      <td>NaN</td>\n",
       "      <td>...</td>\n",
       "      <td>NaN</td>\n",
       "      <td>NaN</td>\n",
       "      <td>NaN</td>\n",
       "      <td>NaN</td>\n",
       "      <td>NaN</td>\n",
       "      <td>NaN</td>\n",
       "      <td>NaN</td>\n",
       "      <td>NaN</td>\n",
       "      <td>NaN</td>\n",
       "      <td>NaN</td>\n",
       "    </tr>\n",
       "    <tr>\n",
       "      <th>92</th>\n",
       "      <td>93</td>\n",
       "      <td>MLPHMNCLA</td>\n",
       "      <td>NaN</td>\n",
       "      <td>NaN</td>\n",
       "      <td>NaN</td>\n",
       "      <td>NaN</td>\n",
       "      <td>NaN</td>\n",
       "      <td>NaN</td>\n",
       "      <td>5.2</td>\n",
       "      <td>41.2</td>\n",
       "      <td>...</td>\n",
       "      <td>4071.0</td>\n",
       "      <td>4262.0</td>\n",
       "      <td>4174.0</td>\n",
       "      <td>4486.0</td>\n",
       "      <td>1769.0</td>\n",
       "      <td>NaN</td>\n",
       "      <td>NaN</td>\n",
       "      <td>NaN</td>\n",
       "      <td>NaN</td>\n",
       "      <td>NaN</td>\n",
       "    </tr>\n",
       "    <tr>\n",
       "      <th>93</th>\n",
       "      <td>94</td>\n",
       "      <td>MHPHMCCHA</td>\n",
       "      <td>NaN</td>\n",
       "      <td>NaN</td>\n",
       "      <td>NaN</td>\n",
       "      <td>NaN</td>\n",
       "      <td>NaN</td>\n",
       "      <td>NaN</td>\n",
       "      <td>6.6</td>\n",
       "      <td>39.4</td>\n",
       "      <td>...</td>\n",
       "      <td>NaN</td>\n",
       "      <td>NaN</td>\n",
       "      <td>NaN</td>\n",
       "      <td>NaN</td>\n",
       "      <td>NaN</td>\n",
       "      <td>NaN</td>\n",
       "      <td>NaN</td>\n",
       "      <td>NaN</td>\n",
       "      <td>NaN</td>\n",
       "      <td>NaN</td>\n",
       "    </tr>\n",
       "    <tr>\n",
       "      <th>94</th>\n",
       "      <td>95</td>\n",
       "      <td>MHPHMCCLA</td>\n",
       "      <td>NaN</td>\n",
       "      <td>NaN</td>\n",
       "      <td>NaN</td>\n",
       "      <td>NaN</td>\n",
       "      <td>NaN</td>\n",
       "      <td>NaN</td>\n",
       "      <td>5.2</td>\n",
       "      <td>39.5</td>\n",
       "      <td>...</td>\n",
       "      <td>3647.0</td>\n",
       "      <td>4649.0</td>\n",
       "      <td>3723.0</td>\n",
       "      <td>4000.0</td>\n",
       "      <td>3455.0</td>\n",
       "      <td>4862.0</td>\n",
       "      <td>3900.0</td>\n",
       "      <td>3593.0</td>\n",
       "      <td>5428.0</td>\n",
       "      <td>NaN</td>\n",
       "    </tr>\n",
       "    <tr>\n",
       "      <th>95</th>\n",
       "      <td>96</td>\n",
       "      <td>MLPLMCCLA</td>\n",
       "      <td>NaN</td>\n",
       "      <td>NaN</td>\n",
       "      <td>NaN</td>\n",
       "      <td>NaN</td>\n",
       "      <td>NaN</td>\n",
       "      <td>NaN</td>\n",
       "      <td>4.8</td>\n",
       "      <td>43.8</td>\n",
       "      <td>...</td>\n",
       "      <td>NaN</td>\n",
       "      <td>NaN</td>\n",
       "      <td>NaN</td>\n",
       "      <td>NaN</td>\n",
       "      <td>NaN</td>\n",
       "      <td>NaN</td>\n",
       "      <td>NaN</td>\n",
       "      <td>NaN</td>\n",
       "      <td>NaN</td>\n",
       "      <td>NaN</td>\n",
       "    </tr>\n",
       "  </tbody>\n",
       "</table>\n",
       "<p>96 rows × 69 columns</p>\n",
       "</div>"
      ],
      "text/plain": [
       "    Plot  Treatment  BD 0-10cm  BD 10-20cm  BD 20-30cm  BD Moisture 0-10cm  \\\n",
       "0      1  PLPHMNCLA       1.11        1.29        1.61                21.2   \n",
       "1      2  PHPLMCCHA       1.16        1.42        1.58                19.8   \n",
       "2      3  PLPHMNCHA       1.15        1.55        1.66                20.8   \n",
       "3      4  PHPLMNCLA       1.05        1.47        1.47                18.2   \n",
       "4      5  PLPLMNCHA       1.14        1.21        1.51                17.7   \n",
       "..   ...        ...        ...         ...         ...                 ...   \n",
       "91    92  MLPLMNCLA        NaN         NaN         NaN                 NaN   \n",
       "92    93  MLPHMNCLA        NaN         NaN         NaN                 NaN   \n",
       "93    94  MHPHMCCHA        NaN         NaN         NaN                 NaN   \n",
       "94    95  MHPHMCCLA        NaN         NaN         NaN                 NaN   \n",
       "95    96  MLPLMCCLA        NaN         NaN         NaN                 NaN   \n",
       "\n",
       "    BD Moisture 10-20 cm  BD Moisture 20-30 cm  Emergence  \\\n",
       "0                   31.0                  34.3        7.4   \n",
       "1                   25.9                  26.9        7.4   \n",
       "2                   30.2                  30.5        5.6   \n",
       "3                   28.8                  27.1        4.8   \n",
       "4                   31.9                  29.4        5.0   \n",
       "..                   ...                   ...        ...   \n",
       "91                   NaN                   NaN        NaN   \n",
       "92                   NaN                   NaN        5.2   \n",
       "93                   NaN                   NaN        6.6   \n",
       "94                   NaN                   NaN        5.2   \n",
       "95                   NaN                   NaN        4.8   \n",
       "\n",
       "    Chlorophyll       28th May  ...  Cone P NT          25cm  \\\n",
       "0                         39.3  ...                   3084.0   \n",
       "1                         38.0  ...                   2587.0   \n",
       "2                         45.9  ...                   2503.0   \n",
       "3                         44.7  ...                   1785.0   \n",
       "4                         36.7  ...                   1730.0   \n",
       "..                         ...  ...                      ...   \n",
       "91                         NaN  ...                      NaN   \n",
       "92                        41.2  ...                   4071.0   \n",
       "93                        39.4  ...                      NaN   \n",
       "94                        39.5  ...                   3647.0   \n",
       "95                        43.8  ...                      NaN   \n",
       "\n",
       "    Cone P NT        27.5cm  Cone P NT        30cm   \\\n",
       "0                    3873.0                  4034.0   \n",
       "1                    3043.0                  4824.0   \n",
       "2                    3612.0                  3149.0   \n",
       "3                    1935.0                  1997.0   \n",
       "4                    1597.0                  1418.0   \n",
       "..                      ...                     ...   \n",
       "91                      NaN                     NaN   \n",
       "92                   4262.0                  4174.0   \n",
       "93                      NaN                     NaN   \n",
       "94                   4649.0                  3723.0   \n",
       "95                      NaN                     NaN   \n",
       "\n",
       "    Cone P NT           32.5cm  Cone P NT          35cm  \\\n",
       "0                       5142.0                   4635.0   \n",
       "1                       4818.0                   4206.0   \n",
       "2                       4213.0                   4295.0   \n",
       "3                       2740.0                   3087.0   \n",
       "4                       1561.0                   3060.0   \n",
       "..                         ...                      ...   \n",
       "91                         NaN                      NaN   \n",
       "92                      4486.0                   1769.0   \n",
       "93                         NaN                      NaN   \n",
       "94                      4000.0                   3455.0   \n",
       "95                         NaN                      NaN   \n",
       "\n",
       "    Cone P NT           37.5cm  Cone P NT        40cm   \\\n",
       "0                       4213.0                  4694.0   \n",
       "1                       3841.0                  4767.0   \n",
       "2                       3388.0                  4061.0   \n",
       "3                       3621.0                  4296.0   \n",
       "4                       3712.0                  3663.0   \n",
       "..                         ...                     ...   \n",
       "91                         NaN                     NaN   \n",
       "92                         NaN                     NaN   \n",
       "93                         NaN                     NaN   \n",
       "94                      4862.0                  3900.0   \n",
       "95                         NaN                     NaN   \n",
       "\n",
       "    Cone P NT           42.5cm  Cone P NT          45cm  Combine Yield (t/ac)  \n",
       "0                       3991.0                   4273.0                   NaN  \n",
       "1                       5181.0                   4156.0                  1.79  \n",
       "2                       3899.0                   4489.0                  1.99  \n",
       "3                       4070.0                   3935.0                  2.09  \n",
       "4                       4107.0                   4455.0                  1.89  \n",
       "..                         ...                      ...                   ...  \n",
       "91                         NaN                      NaN                   NaN  \n",
       "92                         NaN                      NaN                   NaN  \n",
       "93                         NaN                      NaN                   NaN  \n",
       "94                      3593.0                   5428.0                   NaN  \n",
       "95                         NaN                      NaN                   NaN  \n",
       "\n",
       "[96 rows x 69 columns]"
      ]
     },
     "execution_count": 27,
     "metadata": {},
     "output_type": "execute_result"
    }
   ],
   "source": [
    "df_2021"
   ]
  },
  {
   "cell_type": "code",
   "execution_count": 28,
   "metadata": {},
   "outputs": [
    {
     "data": {
      "text/html": [
       "<div>\n",
       "<style scoped>\n",
       "    .dataframe tbody tr th:only-of-type {\n",
       "        vertical-align: middle;\n",
       "    }\n",
       "\n",
       "    .dataframe tbody tr th {\n",
       "        vertical-align: top;\n",
       "    }\n",
       "\n",
       "    .dataframe thead th {\n",
       "        text-align: right;\n",
       "    }\n",
       "</style>\n",
       "<table border=\"1\" class=\"dataframe\">\n",
       "  <thead>\n",
       "    <tr style=\"text-align: right;\">\n",
       "      <th></th>\n",
       "      <th>BD 0-10cm</th>\n",
       "      <th>BD 10-20cm</th>\n",
       "      <th>BD 20-30cm</th>\n",
       "      <th>BD Moisture 0-10cm</th>\n",
       "      <th>BD Moisture 10-20 cm</th>\n",
       "      <th>BD Moisture 20-30 cm</th>\n",
       "    </tr>\n",
       "  </thead>\n",
       "  <tbody>\n",
       "    <tr>\n",
       "      <th>0</th>\n",
       "      <td>1.11</td>\n",
       "      <td>1.29</td>\n",
       "      <td>1.61</td>\n",
       "      <td>21.2</td>\n",
       "      <td>31.0</td>\n",
       "      <td>34.3</td>\n",
       "    </tr>\n",
       "    <tr>\n",
       "      <th>1</th>\n",
       "      <td>1.16</td>\n",
       "      <td>1.42</td>\n",
       "      <td>1.58</td>\n",
       "      <td>19.8</td>\n",
       "      <td>25.9</td>\n",
       "      <td>26.9</td>\n",
       "    </tr>\n",
       "    <tr>\n",
       "      <th>2</th>\n",
       "      <td>1.15</td>\n",
       "      <td>1.55</td>\n",
       "      <td>1.66</td>\n",
       "      <td>20.8</td>\n",
       "      <td>30.2</td>\n",
       "      <td>30.5</td>\n",
       "    </tr>\n",
       "    <tr>\n",
       "      <th>3</th>\n",
       "      <td>1.05</td>\n",
       "      <td>1.47</td>\n",
       "      <td>1.47</td>\n",
       "      <td>18.2</td>\n",
       "      <td>28.8</td>\n",
       "      <td>27.1</td>\n",
       "    </tr>\n",
       "    <tr>\n",
       "      <th>4</th>\n",
       "      <td>1.14</td>\n",
       "      <td>1.21</td>\n",
       "      <td>1.51</td>\n",
       "      <td>17.7</td>\n",
       "      <td>31.9</td>\n",
       "      <td>29.4</td>\n",
       "    </tr>\n",
       "  </tbody>\n",
       "</table>\n",
       "</div>"
      ],
      "text/plain": [
       "   BD 0-10cm  BD 10-20cm  BD 20-30cm  BD Moisture 0-10cm  \\\n",
       "0       1.11        1.29        1.61                21.2   \n",
       "1       1.16        1.42        1.58                19.8   \n",
       "2       1.15        1.55        1.66                20.8   \n",
       "3       1.05        1.47        1.47                18.2   \n",
       "4       1.14        1.21        1.51                17.7   \n",
       "\n",
       "   BD Moisture 10-20 cm  BD Moisture 20-30 cm  \n",
       "0                  31.0                  34.3  \n",
       "1                  25.9                  26.9  \n",
       "2                  30.2                  30.5  \n",
       "3                  28.8                  27.1  \n",
       "4                  31.9                  29.4  "
      ]
     },
     "execution_count": 28,
     "metadata": {},
     "output_type": "execute_result"
    }
   ],
   "source": [
    "# Setting targets and removing them from dataframe\n",
    "y = df_2021['Combine Yield (t/ac)']\n",
    "y = y.fillna(0)\n",
    "del df_2021['Combine Yield (t/ac)']\n",
    "\n",
    "emergenceY = df_2021['Emergence']\n",
    "emergenceY = emergenceY.fillna(0)\n",
    "del df_2021['Emergence']\n",
    "\n",
    "# Features\n",
    "X = df_2021[['BD 0-10cm', 'BD 10-20cm', 'BD 20-30cm', 'BD Moisture 0-10cm', 'BD Moisture 10-20 cm', 'BD Moisture 20-30 cm']]\n",
    "X = X.fillna(0)\n",
    "X.head()"
   ]
  },
  {
   "cell_type": "code",
   "execution_count": 29,
   "metadata": {},
   "outputs": [],
   "source": [
    "# Splitting data for training & testing\n",
    "X_train, X_test, y_train, y_test = train_test_split(X, y, test_size=0.33, random_state=42)\n",
    "\n",
    "X_train_emergence, X_test_emergence, y_train_emergence, y_test_emergence = train_test_split(X, emergenceY, test_size=0.33, random_state=42) # Emergence"
   ]
  },
  {
   "cell_type": "markdown",
   "metadata": {},
   "source": [
    "## Linear Regression Model"
   ]
  },
  {
   "cell_type": "code",
   "execution_count": 30,
   "metadata": {},
   "outputs": [
    {
     "data": {
      "text/plain": [
       "0.26399832760541597"
      ]
     },
     "execution_count": 30,
     "metadata": {},
     "output_type": "execute_result"
    }
   ],
   "source": [
    "# Linear Regression Model\n",
    "reg = LinearRegression().fit(X_train, y_train)\n",
    "reg.score(X, y) # score"
   ]
  },
  {
   "cell_type": "code",
   "execution_count": 31,
   "metadata": {},
   "outputs": [
    {
     "data": {
      "text/plain": [
       "0.2572444854045888"
      ]
     },
     "execution_count": 31,
     "metadata": {},
     "output_type": "execute_result"
    }
   ],
   "source": [
    "# Linear Regression Model\n",
    "regEmergence = LinearRegression().fit(X_train_emergence, y_train_emergence)\n",
    "regEmergence.score(X, emergenceY) # score"
   ]
  },
  {
   "cell_type": "markdown",
   "metadata": {},
   "source": [
    "## SVR Model"
   ]
  },
  {
   "cell_type": "code",
   "execution_count": 32,
   "metadata": {},
   "outputs": [
    {
     "data": {
      "text/plain": [
       "0.23396969763998132"
      ]
     },
     "execution_count": 32,
     "metadata": {},
     "output_type": "execute_result"
    }
   ],
   "source": [
    "# SVR Model\n",
    "svr = SVR().fit(X_train, y_train)\n",
    "svr.score(X, y) # score"
   ]
  },
  {
   "cell_type": "code",
   "execution_count": 33,
   "metadata": {},
   "outputs": [
    {
     "data": {
      "text/plain": [
       "0.13439462928742496"
      ]
     },
     "execution_count": 33,
     "metadata": {},
     "output_type": "execute_result"
    }
   ],
   "source": [
    "# SVR Model\n",
    "svrEmergence = SVR().fit(X_train_emergence, y_train_emergence)\n",
    "svrEmergence.score(X, emergenceY) # score"
   ]
  },
  {
   "cell_type": "code",
   "execution_count": 34,
   "metadata": {},
   "outputs": [
    {
     "name": "stdout",
     "output_type": "stream",
     "text": [
      "MAE: 0.620\n"
     ]
    }
   ],
   "source": [
    "# evaluate the model\n",
    "yhat = reg.predict(X_test)\n",
    "# evaluate predictions\n",
    "mae = mean_absolute_error(y_test, yhat)\n",
    "print('MAE: %.3f' % mae)"
   ]
  },
  {
   "cell_type": "code",
   "execution_count": 35,
   "metadata": {},
   "outputs": [
    {
     "name": "stdout",
     "output_type": "stream",
     "text": [
      "0.8517103213648807\n"
     ]
    }
   ],
   "source": [
    "print(np.sqrt(mean_squared_error(y_test, yhat)))"
   ]
  },
  {
   "cell_type": "markdown",
   "metadata": {},
   "source": [
    "## Testing Predictions"
   ]
  },
  {
   "cell_type": "code",
   "execution_count": 36,
   "metadata": {},
   "outputs": [],
   "source": [
    "# # Plot 36\n",
    "# yieldPredict = reg.predict(np.array([[1.0, 0.0, 1.0, 0.0, 0.0, 1.0, 0.0, 1.0, 1.0, 0.0]])) # Actual === 2.8\n",
    "# emergencePredict = regEmergence.predict(np.array([[1.0, 0.0, 1.0, 0.0, 0.0, 1.0, 0.0, 1.0, 1.0, 0.0]])) # Actual === 6.0\n",
    "# yieldPredict"
   ]
  },
  {
   "cell_type": "code",
   "execution_count": 37,
   "metadata": {},
   "outputs": [],
   "source": [
    "# # Plot 55\n",
    "# yieldPredict = reg.predict(np.array([[0.0, 1.0, 0.0, 1.0, 1.0, 0.0, 1.0, 0.0, 1.0, 0.0]])) # Actual === 0.24\n",
    "# emergencePredict = regEmergence.predict(np.array([[0.0, 1.0, 0.0, 1.0, 1.0, 0.0, 1.0, 0.0, 1.0, 0.0]])) # Actual === 8.2\n",
    "# yieldPredict"
   ]
  },
  {
   "cell_type": "markdown",
   "metadata": {},
   "source": [
    "### SVR Predictions"
   ]
  },
  {
   "cell_type": "code",
   "execution_count": 38,
   "metadata": {},
   "outputs": [],
   "source": [
    "# # Plot 36\n",
    "# yieldPredict = svr.predict(np.array([[1.0, 0.0, 1.0, 0.0, 0.0, 1.0, 0.0, 1.0, 1.0, 0.0]])) # Actual === 2.8\n",
    "# yieldPredict"
   ]
  },
  {
   "cell_type": "markdown",
   "metadata": {},
   "source": [
    "# Model Evaluation"
   ]
  },
  {
   "cell_type": "markdown",
   "metadata": {},
   "source": [
    "### Linear Regression Model"
   ]
  },
  {
   "cell_type": "code",
   "execution_count": 39,
   "metadata": {},
   "outputs": [
    {
     "name": "stdout",
     "output_type": "stream",
     "text": [
      "MAE: 0.62004\n",
      "MSE: 0.72541\n",
      "R^2: 0.10789\n"
     ]
    }
   ],
   "source": [
    "# Linear Regression\n",
    "yhat = reg.predict(X_test)\n",
    "mae = mean_absolute_error(y_test, yhat)\n",
    "print('MAE: %.5f' % mae)\n",
    "\n",
    "mse = mean_squared_error(y_test, yhat)\n",
    "print('MSE: %.5f' % mse)\n",
    "\n",
    "r2_error = r2_score(y_test, yhat)\n",
    "print('R^2: %.5f' % r2_error)\n"
   ]
  },
  {
   "cell_type": "markdown",
   "metadata": {},
   "source": [
    "### SVR Model"
   ]
  },
  {
   "cell_type": "code",
   "execution_count": 40,
   "metadata": {},
   "outputs": [
    {
     "name": "stdout",
     "output_type": "stream",
     "text": [
      "MAE: 0.57095\n",
      "MSE: 0.62840\n",
      "R^2: 0.22720\n"
     ]
    }
   ],
   "source": [
    "# SVR\n",
    "yhat = svr.predict(X_test)\n",
    "mae = mean_absolute_error(y_test, yhat)\n",
    "print('MAE: %.5f' % mae)\n",
    "\n",
    "mse = mean_squared_error(y_test, yhat)\n",
    "print('MSE: %.5f' % mse)\n",
    "\n",
    "r2_error = r2_score(y_test, yhat)\n",
    "print('R^2: %.5f' % r2_error)"
   ]
  }
 ],
 "metadata": {
  "interpreter": {
   "hash": "1edaaea1da45003c4cf958005055c58f834eeaea4fbd5b5b302b0ed3cc846775"
  },
  "kernelspec": {
   "display_name": "Python 3.8.8 ('Heroku': venv)",
   "language": "python",
   "name": "python3"
  },
  "language_info": {
   "codemirror_mode": {
    "name": "ipython",
    "version": 3
   },
   "file_extension": ".py",
   "mimetype": "text/x-python",
   "name": "python",
   "nbconvert_exporter": "python",
   "pygments_lexer": "ipython3",
   "version": "3.8.8"
  },
  "orig_nbformat": 4
 },
 "nbformat": 4,
 "nbformat_minor": 2
}
